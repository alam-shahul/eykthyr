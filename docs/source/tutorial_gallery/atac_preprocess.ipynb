{
 "cells": [
  {
   "cell_type": "code",
   "execution_count": null,
   "id": "3210b4a1-66b8-4cb9-ba29-6a4685d147ce",
   "metadata": {
    "scrolled": true
   },
   "outputs": [],
   "source": [
    "pkgs <- c(\"Seurat\",\"Signac\",\"ArchR\",\"tidyverse\",\"patchwork\",\n",
    "          \"ggalluvial\",\"clusterProfiler\",\"org.Mm.eg.db\",\"TxDb.Mmusculus.UCSC.mm10.knownGene\",\n",
    "          \"parallel\",\n",
    "          \"BSgenome.Mmusculus.UCSC.mm10\",\n",
    "          \"TFBSTools\",\n",
    "          \"chromVARmotifs\",\n",
    "          \"motifmatchr\",\n",
    "          \"magrittr\",\"viridis\",\"igraph\", \"clustree\", \"reticulate\", \"Rsamtools\")\n",
    "suppressWarnings(suppressPackageStartupMessages(lapply(pkgs,library,character.only=TRUE)))"
   ]
  },
  {
   "cell_type": "code",
   "execution_count": null,
   "id": "29389ea7-10aa-4e75-a5a1-a145c8b656dd",
   "metadata": {},
   "outputs": [],
   "source": [
    "# source functions\n",
    "source_python(\"atac/Python/utils.py\")\n",
    "source(\"atac/R/function.R\")\n",
    "\n",
    "sampleId <- \"spatialATACRNA\"\n",
    "color_list<-c(\"1\"=\"#644498\",\"2\"=\"#E94F2F\",\"3\"=\"#488CAD\",\"4\"=\"#D6ACCF\",\"5\"=\"#207639\",\n",
    "              \"6\"=\"#EF7D18\",\"7\"=\"#7184C1\",\"8\"=\"#70B1D7\",\"9\"=\"#DCBE70\",\"10\"=\"#A66C22\",\n",
    "              \"11\"=\"#1A7F85\",\"12\"=\"#ED7C7A\",\"13\"=\"#A8CD92\",\"14\"=\"#A91D30\",\"15\"=\"#F1CC32\",\n",
    "              \"16\"=\"#E6E754\",\"17\"=\"#063D20\",\"18\"=\"#8dd3c8\",\"19\"=\"#b31631\",\"20\"=\"#fbd326\"\n",
    "              )\n",
    "\n",
    "set.seed(123)\n",
    "addArchRGenome(\"hg38\")\n",
    "addArchRThreads(threads = 4)"
   ]
  },
  {
   "cell_type": "code",
   "execution_count": null,
   "id": "586a2bd4-1c99-44c8-875d-d9b1981a69fe",
   "metadata": {},
   "outputs": [],
   "source": [
    "bgzip(\"data/spatialatacrna/GSM6206884_HumanBrain_50um_fragments.tsv\", \n",
    "      dest=\"data/spatialatacrna/GSM6206884_HumanBrain_50um_fragments.tsv.bgz\", \n",
    "      overwrite=TRUE)"
   ]
  },
  {
   "cell_type": "code",
   "execution_count": null,
   "id": "1f3eb6d6-d67b-42bb-b988-9c4f57db9eb9",
   "metadata": {},
   "outputs": [],
   "source": [
    "# create ArchR object\n",
    "input_ATAC <- \"data/spatialatacrna/GSM6206884_HumanBrain_50um_fragments.tsv.bgz\"\n",
    "\n",
    "ArrowFiles <- createArrowFiles(\n",
    "  inputFiles = input_ATAC,\n",
    "  sampleNames = sampleId,\n",
    "  minTSS = 0,\n",
    "  minFrags = 0,\n",
    "  maxFrags = 1e+07,\n",
    "  addTileMat = TRUE,\n",
    "  addGeneScoreMat = TRUE,\n",
    "  offsetPlus = 0,\n",
    "  offsetMinus = 0,\n",
    "  force = TRUE,\n",
    "  TileMatParams = list(tileSize = 5000)\n",
    ")"
   ]
  },
  {
   "cell_type": "code",
   "execution_count": null,
   "id": "d79aaa55-3e5b-4a09-9449-b221ce5bcf55",
   "metadata": {},
   "outputs": [],
   "source": [
    "proj <- ArchRProject(\n",
    "  ArrowFiles = ArrowFiles, \n",
    "  outputDirectory = sampleId,\n",
    "  copyArrows = FALSE\n",
    ")"
   ]
  },
  {
   "cell_type": "code",
   "execution_count": null,
   "id": "57b117e9-6809-493a-b425-db6582e37315",
   "metadata": {},
   "outputs": [],
   "source": [
    "# read the spatial barcode\n",
    "barcode <- read.csv(\"data/spatialatacrna/HumanBrain_50um_spatial_ATAC/tissue_positions_list.csv\",header = T,row.names = 1)\n",
    "barcode <- barcode[-1,]\n",
    "rownames(barcode) <- paste0(sampleId,\"#\",rownames(barcode),'-1')"
   ]
  },
  {
   "cell_type": "code",
   "execution_count": null,
   "id": "0a84d326-306c-4b56-bc1a-4d5d5c6a203e",
   "metadata": {},
   "outputs": [],
   "source": [
    "archrindex <- c(\"array_col\",\"array_row\")\n",
    "myindex <- c(\"X0\",\"X0.1\")\n",
    "for (i in 1:2) {\n",
    "    proj <- addCellColData(ArchRProj = proj, data=barcode[,myindex[i]], cells=rownames(barcode), name=archrindex[i], force=T)\n",
    "}"
   ]
  },
  {
   "cell_type": "code",
   "execution_count": null,
   "id": "a1165613-4042-4787-ba46-51e16b67c015",
   "metadata": {},
   "outputs": [],
   "source": [
    "proj <- subsetArchRProject(\n",
    "    ArchRProj = proj,\n",
    "  cells = rownames(barcode),\n",
    "    force = TRUE\n",
    "    )"
   ]
  },
  {
   "cell_type": "code",
   "execution_count": null,
   "id": "70d2943d-7515-46b4-9132-0d6740436837",
   "metadata": {},
   "outputs": [],
   "source": [
    "# using spatial position to smooth\n",
    "# for ATAC\n",
    "proj <- IterativeLSI(\n",
    "  ArchRProj = proj,\n",
    "  useMatrix = \"TileMatrix\", \n",
    "  name = \"LSI_ATAC\", \n",
    "  iterations = 2, \n",
    "  clusterParams = list(\n",
    "    resolution = c(2),\n",
    "    sampleCells = NULL, \n",
    "    n.start = 10\n",
    "  ), \n",
    "  varFeatures = 25000, \n",
    "  dimsToUse = 1:30,\n",
    "  force = TRUE,\n",
    "  saveIterations = FALSE,\n",
    "  verbose = T, \n",
    "  logFile = \"log.archr\"\n",
    ")"
   ]
  },
  {
   "cell_type": "code",
   "execution_count": null,
   "id": "de2f21b2-2484-4622-ad27-a4f47dd47290",
   "metadata": {
    "scrolled": true
   },
   "outputs": [],
   "source": [
    "# add UMAP for RNA, ATAC and Combined\n",
    "for (i in c(\"ATAC\")) {\n",
    "proj <- addUMAP(\n",
    "  ArchRProj = proj, \n",
    "  reducedDims = paste0(\"LSI_\", i),\n",
    "  name = paste0(\"UMAP_\",i),\n",
    "  nNeighbors = 30, \n",
    "  minDist = 0.5, \n",
    "  metric = \"cosine\",\n",
    "  force = TRUE)\n",
    "}\n",
    "\n",
    "# perform clustering for RNA, ATAC and Combined\n",
    "for (i in c(0.3, 0.5, 0.8)){\n",
    "  proj <-  IterativeLSI_Clustering(\n",
    "    input = proj,\n",
    "    reducedDims = \"LSI_ATAC\", \n",
    "    method = \"Seurat\",\n",
    "    name = paste0(\"Clusters_ATAC_\",i),\n",
    "    resolution = i,\n",
    "    prefix = \"\",\n",
    "    force = TRUE,\n",
    "    knnAssign = 30,\n",
    "    nOutlier = 20,\n",
    "    filterBias = T,\n",
    "    verbose = F)\n",
    "}"
   ]
  },
  {
   "cell_type": "code",
   "execution_count": null,
   "id": "ef346c4c-618e-4593-a7c4-1486701711d7",
   "metadata": {},
   "outputs": [],
   "source": [
    "proj <- addGroupCoverages(\n",
    "    proj,\n",
    "    groupBy = \"Clusters_ATAC_0.5\"\n",
    "    )"
   ]
  },
  {
   "cell_type": "code",
   "execution_count": null,
   "id": "fd8b57f2-9f5f-4e4e-bcbb-40d48246199d",
   "metadata": {},
   "outputs": [],
   "source": [
    "# Make sure to add your own path to Macs2\n",
    "proj <- addReproduciblePeakSet(\n",
    "    proj,\n",
    "    groupBy = \"Clusters_ATAC_0.5\",\n",
    "    pathToMacs2 = \"/your/path/here\"\n",
    "    )"
   ]
  },
  {
   "cell_type": "code",
   "execution_count": null,
   "id": "3b57f5fa-6927-42f0-af5c-068d86571ae9",
   "metadata": {},
   "outputs": [],
   "source": [
    "proj <- addPeakMatrix(proj)"
   ]
  },
  {
   "cell_type": "code",
   "execution_count": null,
   "id": "3e326a6c-941e-41fe-82bf-975b1bdf7291",
   "metadata": {},
   "outputs": [],
   "source": [
    "proj <- addMotifAnnotations(ArchRProj = proj, motifSet = \"cisbp\", name = \"Motif\")"
   ]
  },
  {
   "cell_type": "code",
   "execution_count": null,
   "id": "c59fc346-6817-4c50-97b7-afe54f012225",
   "metadata": {},
   "outputs": [],
   "source": [
    "matches <- getMatches(proj)\n",
    "peaks <- getMatrixFromProject(proj, \"PeakMatrix\")"
   ]
  },
  {
   "cell_type": "code",
   "execution_count": null,
   "id": "537cfc1c-ac4f-4719-a4df-3a02e73ce432",
   "metadata": {},
   "outputs": [],
   "source": [
    "saveArchRProject(ArchRProj = proj, outputDirectory = paste0(\"data/spatialatacrna/Save-\",sampleId,\".archr\"), load = FALSE)"
   ]
  },
  {
   "cell_type": "code",
   "execution_count": null,
   "id": "97ba4167-deb2-4147-9dd7-648d7b66586a",
   "metadata": {},
   "outputs": [],
   "source": [
    "write.table(assay(matches), file = paste0(\"data/spatialatacrna/\",sampleId,'_motifs.tsv'), quote=FALSE)"
   ]
  },
  {
   "cell_type": "code",
   "execution_count": null,
   "id": "3bc56759-0eb9-4874-9daf-295857c18085",
   "metadata": {},
   "outputs": [],
   "source": [
    "write.table(assay(peaks), file = paste0(\"data/spatialatacrna/\",sampleId,'_peaks.tsv'), quote=FALSE)"
   ]
  },
  {
   "cell_type": "code",
   "execution_count": null,
   "id": "3490817d-58ed-4bfd-b832-427f10b65557",
   "metadata": {},
   "outputs": [],
   "source": [
    "write.csv(rowRanges(peaks), file = paste0(\"data/spatialatacrna/\",sampleId,'_peak_ranges.csv'))"
   ]
  },
  {
   "cell_type": "code",
   "execution_count": null,
   "id": "34cbe914-1a40-4171-a968-9f6adc47d8d6",
   "metadata": {},
   "outputs": [],
   "source": []
  }
 ],
 "metadata": {
  "kernelspec": {
   "display_name": "R",
   "language": "R",
   "name": "ir"
  },
  "language_info": {
   "codemirror_mode": "r",
   "file_extension": ".r",
   "mimetype": "text/x-r-source",
   "name": "R",
   "pygments_lexer": "r",
   "version": "4.3.2"
  }
 },
 "nbformat": 4,
 "nbformat_minor": 5
}
