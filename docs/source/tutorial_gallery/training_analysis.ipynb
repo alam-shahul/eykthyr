{
 "cells": [
  {
   "cell_type": "code",
   "execution_count": null,
   "id": "b6a7f33c-1bb4-4249-8add-637c709f66fd",
   "metadata": {},
   "outputs": [],
   "source": [
    "from eykthyr.eykthyr.eykthyr import Eykthyr, load_anndata\n",
    "import scanpy as sc\n",
    "from eykthyr.eykthyr import pl"
   ]
  },
  {
   "cell_type": "markdown",
   "id": "0c7d6ac8-5666-40ab-a3b4-4a7aab0654af",
   "metadata": {},
   "source": [
    "# Training Eykthyr"
   ]
  },
  {
   "cell_type": "code",
   "execution_count": null,
   "id": "3e57a906-06a0-46fb-9b45-71da6fd87f8a",
   "metadata": {},
   "outputs": [],
   "source": [
    "e = load_anndata('spatialatacrna.h5ad')"
   ]
  },
  {
   "cell_type": "code",
   "execution_count": null,
   "id": "7497ac3a-e1d0-4e75-8c8f-affc69d11068",
   "metadata": {},
   "outputs": [],
   "source": [
    "e.compute_TF_activity(peak_tsvs=['data/spatialatacrna/spatialATACRNAmouseembryo2_peaks.tsv'],\n",
    "                      archr_dataset_names=['spatialATACRNAmouseembryo2'],\n",
    "                      motif_tsvs=['data/spatialatacrna/spatialATACRNAmouseembryo2_motifs.tsv'])"
   ]
  },
  {
   "cell_type": "code",
   "execution_count": null,
   "id": "60e35831-ac05-4682-ac27-cf41db28bb44",
   "metadata": {
    "scrolled": true
   },
   "outputs": [],
   "source": [
    "e.compute_TF_metagene_weights()"
   ]
  },
  {
   "cell_type": "code",
   "execution_count": null,
   "id": "04975b8a-851f-4716-aa13-1057a2e5e8c9",
   "metadata": {},
   "outputs": [],
   "source": [
    "e.run_all_perturbations()"
   ]
  },
  {
   "cell_type": "code",
   "execution_count": null,
   "id": "fc9f4ddf-0a8a-4e45-8009-36c3cc94e643",
   "metadata": {
    "scrolled": true
   },
   "outputs": [],
   "source": [
    "e.save_anndata('spatialatacrna.h5ad')"
   ]
  },
  {
   "cell_type": "markdown",
   "id": "db563552-2cd9-4646-8912-bfb347174058",
   "metadata": {},
   "source": [
    "# Plotting results"
   ]
  },
  {
   "cell_type": "code",
   "execution_count": null,
   "id": "ff166c24-9382-4815-9186-39a8c715027f",
   "metadata": {},
   "outputs": [],
   "source": [
    "e = load_anndata('spatialatacrna.h5ad')"
   ]
  },
  {
   "cell_type": "code",
   "execution_count": null,
   "id": "1a519ba4-05f4-4dda-85ea-58fdcbe28cfd",
   "metadata": {},
   "outputs": [],
   "source": [
    "pl.prep_paga(e, 'original_leiden')"
   ]
  },
  {
   "cell_type": "code",
   "execution_count": null,
   "id": "faa31d68-a14f-4e46-ac12-8fafee8e318a",
   "metadata": {
    "scrolled": true
   },
   "outputs": [],
   "source": [
    "pl.paga_spatial_simulation(e, ['Msx1'], 'original_leiden')"
   ]
  },
  {
   "cell_type": "code",
   "execution_count": null,
   "id": "e50bbb6e-93f7-4098-9ed5-6f29b9948788",
   "metadata": {},
   "outputs": [],
   "source": [
    "sc.pp.neighbors(e.perturbed_X[0], use_rep='spatial', key_added='spatial_neighbors')\n",
    "nns = sc.Neighbors(e.perturbed_X[0], neighbors_key='spatial_neighbors')\n",
    "nns.compute_neighbors(knn=False, use_rep='spatial', method='gauss')\n",
    "ventricle_cells = e.perturbed_X[0][e.perturbed_X[0].obs['original_leiden'] == '7']\n",
    "e.perturbed_X[0].obs['ventricle_distance'] = nns.distances[:,e.perturbed_X[0].obs['original_leiden'] == '7'].min(axis=1)"
   ]
  },
  {
   "cell_type": "code",
   "execution_count": null,
   "id": "f5af604a-430b-433c-be26-c569436ea539",
   "metadata": {
    "scrolled": true
   },
   "outputs": [],
   "source": [
    "ips = pl.development_simulation(e, ['Msx1'])"
   ]
  }
 ],
 "metadata": {
  "kernelspec": {
   "display_name": "tangram3",
   "language": "python",
   "name": "tangram3"
  },
  "language_info": {
   "codemirror_mode": {
    "name": "ipython",
    "version": 3
   },
   "file_extension": ".py",
   "mimetype": "text/x-python",
   "name": "python",
   "nbconvert_exporter": "python",
   "pygments_lexer": "ipython3",
   "version": "3.8.18"
  }
 },
 "nbformat": 4,
 "nbformat_minor": 5
}
