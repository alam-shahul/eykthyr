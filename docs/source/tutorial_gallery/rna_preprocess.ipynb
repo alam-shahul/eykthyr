{
 "cells": [
  {
   "cell_type": "markdown",
   "id": "0c7d6ac8-5666-40ab-a3b4-4a7aab0654af",
   "metadata": {},
   "source": [
    "# Preprocessing transcriptome data"
   ]
  },
  {
   "cell_type": "code",
   "execution_count": null,
   "id": "b6a7f33c-1bb4-4249-8add-637c709f66fd",
   "metadata": {},
   "outputs": [],
   "source": [
    "from eykthyr.eykthyr.eykthyr import Eykthyr, load_anndata\n",
    "import scanpy as sc"
   ]
  },
  {
   "cell_type": "code",
   "execution_count": null,
   "id": "3e57a906-06a0-46fb-9b45-71da6fd87f8a",
   "metadata": {},
   "outputs": [],
   "source": [
    "e = Eykthyr()"
   ]
  },
  {
   "cell_type": "code",
   "execution_count": null,
   "id": "67703057-cc9a-4c47-9816-d4a7162eedf8",
   "metadata": {},
   "outputs": [],
   "source": [
    "adrna = sc.read('data/spatialatacrna/mouse_embryo2_rna.h5ad')\n",
    "adrna"
   ]
  },
  {
   "cell_type": "code",
   "execution_count": null,
   "id": "3223b388-0411-4aeb-9110-95a2b6d684cd",
   "metadata": {},
   "outputs": [],
   "source": [
    "e.set_RNA([adrna])"
   ]
  },
  {
   "cell_type": "code",
   "execution_count": null,
   "id": "f6ef7490-df64-4088-82bd-cb64474913e4",
   "metadata": {},
   "outputs": [],
   "source": [
    "e.preprocess_rna(make_plots=True)"
   ]
  },
  {
   "cell_type": "code",
   "execution_count": null,
   "id": "3861661b-b9d4-41d4-9b86-795f077e568f",
   "metadata": {
    "scrolled": true
   },
   "outputs": [],
   "source": [
    "e.compute_metagenes()"
   ]
  },
  {
   "cell_type": "code",
   "execution_count": null,
   "id": "544156a2-6fe0-44af-9c8f-39d497607e09",
   "metadata": {},
   "outputs": [],
   "source": [
    "e.analyze_metagenes()"
   ]
  },
  {
   "cell_type": "code",
   "execution_count": null,
   "id": "375666d4-23e8-4924-a60e-0104396ffa92",
   "metadata": {},
   "outputs": [],
   "source": [
    "e.save_anndata('spatialatacrna.h5ad')"
   ]
  }
 ],
 "metadata": {
  "kernelspec": {
   "display_name": "tangram3",
   "language": "python",
   "name": "tangram3"
  },
  "language_info": {
   "codemirror_mode": {
    "name": "ipython",
    "version": 3
   },
   "file_extension": ".py",
   "mimetype": "text/x-python",
   "name": "python",
   "nbconvert_exporter": "python",
   "pygments_lexer": "ipython3",
   "version": "3.8.18"
  }
 },
 "nbformat": 4,
 "nbformat_minor": 5
}
